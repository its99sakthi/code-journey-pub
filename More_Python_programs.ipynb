{
  "nbformat": 4,
  "nbformat_minor": 0,
  "metadata": {
    "colab": {
      "provenance": [],
      "collapsed_sections": []
    },
    "kernelspec": {
      "name": "python3",
      "display_name": "Python 3"
    }
  },
  "cells": [
    {
      "cell_type": "markdown",
      "metadata": {
        "id": "JiVohICBvy9T"
      },
      "source": [
        "**File access**"
      ]
    },
    {
      "cell_type": "markdown",
      "metadata": {
        "id": "LeUBkISWNdWn"
      },
      "source": [
        "The open() function takes two parameters; filename, and mode.\n",
        "\n",
        "* file.close()\n",
        "* file.read([size])\n",
        "* file.readline([size])\n",
        "* file.write()\n",
        "\n",
        "There are four different methods (modes) for opening a file:\n",
        "\n",
        "* \"r\" - Read - Default value. Opens a file for reading, error if the file does not exist\n",
        "* \"a\" - Append - Opens a file for appending, creates the file if it does not exist\n",
        "* \"w\" - Write - Opens a file for writing, creates the file if it does not exist\n",
        "* \"x\" - Create - Creates the specified file, returns an error if the file exists\n"
      ]
    },
    {
      "cell_type": "code",
      "metadata": {
        "id": "QxKGrXCcv6Lt"
      },
      "source": [
        "# Create a file\n",
        "\n",
        "f = open(\"demofile.txt\", \"w\")\n",
        "f.write(\"Line number one\")\n",
        "f.write(\"\\n\")\n",
        "f.write(\"Line number two\")\n",
        "f.close()"
      ],
      "execution_count": 1,
      "outputs": []
    },
    {
      "cell_type": "code",
      "metadata": {
        "id": "vnAoulus9aZb",
        "colab": {
          "base_uri": "https://localhost:8080/"
        },
        "outputId": "86cf0ae5-b359-49f6-ed89-a97ad00f1993"
      },
      "source": [
        "# Read file in different ways\n",
        "f = open(\"demofile.txt\", \"r\") \n",
        "# use rb for 1 and 2 whence (2nd param) in seek. 0-start, 1- current pos, 2- EOF\n",
        "print(type(f))\n",
        "\n",
        "fl=f.read() #try with 20\n",
        "print(type(fl))\n",
        "print(len(fl))\n",
        "\n",
        "#f.seek(0,0) # place file pointer wherever required. first param is offset\n",
        "print(f.read()) # won't print anything till we open it again\n"
      ],
      "execution_count": 7,
      "outputs": [
        {
          "output_type": "stream",
          "name": "stdout",
          "text": [
            "<class '_io.BufferedReader'>\n",
            "<class 'bytes'>\n",
            "31\n",
            "b'r two'\n"
          ]
        }
      ]
    },
    {
      "cell_type": "code",
      "metadata": {
        "colab": {
          "base_uri": "https://localhost:8080/"
        },
        "id": "Xu1wG678HdmK",
        "outputId": "0a5d80f6-b07e-4de9-c547-50edf24526fe"
      },
      "source": [
        "f = open(\"demofile.txt\", \"r\")\n",
        "print(f.read(5))\n",
        "print(f.read(5))\n",
        "\n",
        "f = open(\"demofile.txt\", \"r\")\n",
        "print(f.readline())\n",
        "print(f.readline(13))\n",
        "\n",
        "f = open(\"demofile.txt\", \"r\")\n",
        "for x in f:\n",
        "  print(x)\n"
      ],
      "execution_count": 10,
      "outputs": [
        {
          "output_type": "stream",
          "name": "stdout",
          "text": [
            "Line \n",
            "numbe\n",
            "Line number one\n",
            "\n",
            "Line number t\n",
            "Line number one\n",
            "\n",
            "Line number two\n"
          ]
        }
      ]
    },
    {
      "cell_type": "code",
      "metadata": {
        "id": "SRxGpZ9A93ex",
        "colab": {
          "base_uri": "https://localhost:8080/"
        },
        "outputId": "c938f82d-fbf5-49c4-faf1-8bc11268b11e"
      },
      "source": [
        "# Append data to file\n",
        "f = open(\"demofile.txt\", \"a\")\n",
        "f.write(\"\\nNow the file has more content\")\n",
        "f.close()\n",
        "\n",
        "f = open(\"demofile.txt\", \"r\")\n",
        "print(f.read())"
      ],
      "execution_count": 11,
      "outputs": [
        {
          "output_type": "stream",
          "name": "stdout",
          "text": [
            "Line number one\n",
            "Line number two\n",
            "Now the file has more content\n"
          ]
        }
      ]
    },
    {
      "cell_type": "code",
      "source": [
        "import os # Operating System module\n",
        "os.remove(\"demofile.txt\")\n",
        "# https://www.geeksforgeeks.org/os-module-python-examples/"
      ],
      "metadata": {
        "id": "E3n1wROu4s9v"
      },
      "execution_count": 12,
      "outputs": []
    },
    {
      "cell_type": "markdown",
      "source": [
        "Run this code only locally not in colab\n",
        "\n",
        "* import sys\n",
        "* old_target= sys.stdout\n",
        "\n",
        "* sys.stdout = open('file', 'w')\n",
        "* print('test')\n",
        "* sys.stdout.close()\n",
        "\n",
        "* sys.stdout = old_target \n"
      ],
      "metadata": {
        "id": "LBNmNmAscwrx"
      }
    },
    {
      "cell_type": "markdown",
      "metadata": {
        "id": "vyS9R1Wp-Q8K"
      },
      "source": [
        "**Exception handling**"
      ]
    },
    {
      "cell_type": "markdown",
      "metadata": {
        "id": "C52lP7rDN3PX"
      },
      "source": [
        "* An exception can be defined as an abnormal condition in a program resulting in the disruption in the flow of the program.\n",
        "\n",
        "* Whenever an exception occurs, the program halts the execution, and thus further code is not executed. Therefore, an exception is the error which python script is unable to tackle with.\n",
        "\n",
        "* Python provides us with the way to handle the Exception so that the other part of the code can be executed without any disruption. \n"
      ]
    },
    {
      "cell_type": "markdown",
      "metadata": {
        "id": "6fyhjFHDOT65"
      },
      "source": [
        "\n",
        "\n",
        "---\n",
        "\n",
        "* The **try** block lets you test a block of code for errors.\n",
        "\n",
        "* The **except** block lets you handle the error.\n",
        "\n",
        "* The **finally** block lets you execute code, regardless of the result of the try- and except blocks.\n",
        "\n",
        "* You can use the **else** keyword to define a block of code to be executed if no errors were raised\n"
      ]
    },
    {
      "cell_type": "code",
      "metadata": {
        "id": "DV4ZPjFZ-U-1",
        "colab": {
          "base_uri": "https://localhost:8080/",
          "height": 235
        },
        "outputId": "c43c3c33-00d3-4c4d-9576-d584a75ba2b6"
      },
      "source": [
        "# without handling exceptions\n",
        "a = 5 \n",
        "b = 0  \n",
        "c = a/b  \n",
        "print(c)  \n",
        "  \n",
        "# next code:  \n",
        "print(\"Hi I am in next part of the program\")  "
      ],
      "execution_count": 13,
      "outputs": [
        {
          "output_type": "error",
          "ename": "ZeroDivisionError",
          "evalue": "ignored",
          "traceback": [
            "\u001b[0;31m---------------------------------------------------------------------------\u001b[0m",
            "\u001b[0;31mZeroDivisionError\u001b[0m                         Traceback (most recent call last)",
            "\u001b[0;32m<ipython-input-13-ed4ee3bdb74f>\u001b[0m in \u001b[0;36m<module>\u001b[0;34m\u001b[0m\n\u001b[1;32m      2\u001b[0m \u001b[0ma\u001b[0m \u001b[0;34m=\u001b[0m \u001b[0;36m5\u001b[0m\u001b[0;34m\u001b[0m\u001b[0;34m\u001b[0m\u001b[0m\n\u001b[1;32m      3\u001b[0m \u001b[0mb\u001b[0m \u001b[0;34m=\u001b[0m \u001b[0;36m0\u001b[0m\u001b[0;34m\u001b[0m\u001b[0;34m\u001b[0m\u001b[0m\n\u001b[0;32m----> 4\u001b[0;31m \u001b[0mc\u001b[0m \u001b[0;34m=\u001b[0m \u001b[0ma\u001b[0m\u001b[0;34m/\u001b[0m\u001b[0mb\u001b[0m\u001b[0;34m\u001b[0m\u001b[0;34m\u001b[0m\u001b[0m\n\u001b[0m\u001b[1;32m      5\u001b[0m \u001b[0mprint\u001b[0m\u001b[0;34m(\u001b[0m\u001b[0mc\u001b[0m\u001b[0;34m)\u001b[0m\u001b[0;34m\u001b[0m\u001b[0;34m\u001b[0m\u001b[0m\n\u001b[1;32m      6\u001b[0m \u001b[0;34m\u001b[0m\u001b[0m\n",
            "\u001b[0;31mZeroDivisionError\u001b[0m: division by zero"
          ]
        }
      ]
    },
    {
      "cell_type": "code",
      "metadata": {
        "id": "SNNGDkfQ_P9J",
        "colab": {
          "base_uri": "https://localhost:8080/"
        },
        "outputId": "a7a081a5-511e-4969-9146-23a323a8f8e4"
      },
      "source": [
        "# handling exceptions\n",
        "try:  \n",
        "    a = 5 \n",
        "    b = 0 # change it to 1 and see \n",
        "    c = a/b  \n",
        "    print(c)  \n",
        "except:  \n",
        "    print(\"can't divide by zero\")  \n",
        "else:  \n",
        "    print(\"Hi I am else block\") \n",
        "    \n",
        "# next code:  \n",
        "print(\"Hi I am in next part of the program\")  "
      ],
      "execution_count": 14,
      "outputs": [
        {
          "output_type": "stream",
          "name": "stdout",
          "text": [
            "can't divide by zero\n",
            "Hi I am in next part of the program\n"
          ]
        }
      ]
    },
    {
      "cell_type": "code",
      "metadata": {
        "id": "XUoKrAhk_V4G",
        "colab": {
          "base_uri": "https://localhost:8080/"
        },
        "outputId": "09f5e725-8e3c-49cf-abc2-afe9e215fd84"
      },
      "source": [
        "# handling multiple exceptions\n",
        "try:  \n",
        "    a = 5\n",
        "    b = 0 # change it to 1 and see \n",
        "    c = a/b \n",
        "    print(c) \n",
        "    #f=open('demofile.txt')\n",
        "    d=e  # remove the comment and see\n",
        "except ZeroDivisionError:  \n",
        "    print(\"can't divide by zero\")  \n",
        "except NameError as ne:  \n",
        "    print(\"Name has a problem\") \n",
        "    print(ne) \n",
        "except BaseException as ex:\n",
        "    print(\"Some other problem\")\n",
        "    print(type(ex))  \n",
        "    print(ex)\n",
        "else:  \n",
        "    print(\"Hi I am else block\") "
      ],
      "execution_count": 17,
      "outputs": [
        {
          "output_type": "stream",
          "name": "stdout",
          "text": [
            "5.0\n",
            "Some other problem\n",
            "<class 'FileNotFoundError'>\n",
            "[Errno 2] No such file or directory: 'demofile.txt'\n"
          ]
        }
      ]
    },
    {
      "cell_type": "code",
      "metadata": {
        "id": "hZJ9rAUy_cnw",
        "colab": {
          "base_uri": "https://localhost:8080/"
        },
        "outputId": "5403ff9c-871c-44a8-83a4-7f5b7f324892"
      },
      "source": [
        "# using finally\n",
        "try:\n",
        "  print(5/0) #try with 5/0\n",
        "except:\n",
        "  print(\"Something went wrong\")\n",
        "finally:\n",
        "  print(\"The 'try except' is finished\")    "
      ],
      "execution_count": null,
      "outputs": [
        {
          "output_type": "stream",
          "name": "stdout",
          "text": [
            "5.0\n",
            "The 'try except' is finished\n"
          ]
        }
      ]
    },
    {
      "cell_type": "code",
      "metadata": {
        "id": "Ec-6FFfm_g0G",
        "colab": {
          "base_uri": "https://localhost:8080/"
        },
        "outputId": "a2070b06-c147-4124-d364-04f9da091280"
      },
      "source": [
        "# custom exceptions\n",
        "class ErrorInCode(Exception):    \n",
        "    def __init__(self, data):    \n",
        "        self.data = data  \n",
        "    def custexp1(self):\n",
        "      print('custexp1')  \n",
        "    def custexp2(self):\n",
        "      print('custexp2')  \n",
        "try:\n",
        "    raise ErrorInCode(2000)    \n",
        "except ErrorInCode as ae:    \n",
        "    if(ae.data==2000):\n",
        "      ae.custexp1()\n",
        "    if(ae.data==3000):\n",
        "      ae.custexp2()"
      ],
      "execution_count": 20,
      "outputs": [
        {
          "output_type": "stream",
          "name": "stdout",
          "text": [
            "custexp1\n"
          ]
        }
      ]
    },
    {
      "cell_type": "markdown",
      "metadata": {
        "id": "piChHfdat_3I"
      },
      "source": [
        "**Data Access using SQLite**"
      ]
    },
    {
      "cell_type": "code",
      "metadata": {
        "id": "rWo02pZVt2W2",
        "colab": {
          "base_uri": "https://localhost:8080/"
        },
        "outputId": "8d4e92a2-b8fc-4d5b-a055-2e2f04a39e24"
      },
      "source": [
        "# Create table\n",
        "import sqlite3\n",
        "conn = sqlite3.connect('test.db')\n",
        "print(type(conn))\n",
        "\n",
        "# Create table\n",
        "cr=conn.execute('''CREATE TABLE COMPANY\n",
        "         (ID INT PRIMARY KEY     NOT NULL,\n",
        "         NAME           TEXT    NOT NULL,\n",
        "         AGE            INT     NOT NULL,\n",
        "         ADDRESS        CHAR(50),\n",
        "         SALARY         REAL);''')\n",
        "print (\"Table created successfully\");\n",
        "print(cr)\n",
        "conn.close()"
      ],
      "execution_count": 10,
      "outputs": [
        {
          "output_type": "stream",
          "name": "stdout",
          "text": [
            "<class 'sqlite3.Connection'>\n",
            "Table created successfully\n",
            "<sqlite3.Cursor object at 0x7faf07f95f10>\n"
          ]
        }
      ]
    },
    {
      "cell_type": "code",
      "metadata": {
        "id": "dQXGYcQDuSdC",
        "colab": {
          "base_uri": "https://localhost:8080/"
        },
        "outputId": "26b7c16a-c4da-4d58-e4ca-afe3e9f89a0e"
      },
      "source": [
        "# Insert values\n",
        "conn = sqlite3.connect('test.db')\n",
        "cr=conn.cursor()\n",
        "# instead of cr we use conn directly\n",
        "cr.execute(\"INSERT INTO COMPANY (ID,NAME,AGE,ADDRESS,SALARY) \\\n",
        "VALUES (1, 'Paul', 32, 'California', 20000.00 )\")\n",
        "conn.execute(\"INSERT INTO COMPANY (ID,NAME,AGE,ADDRESS,SALARY) \\\n",
        "      VALUES (2, 'Allen', 25, 'Texas', 15000.00 )\")\n",
        "conn.execute(\"INSERT INTO COMPANY (ID,NAME,AGE,ADDRESS,SALARY) \\\n",
        "      VALUES (3, 'Teddy', 23, 'Norway', 20000.00 )\")\n",
        "\n",
        "a=4\n",
        "b='Mark'\n",
        "c=25\n",
        "d='Rich-Mond'\n",
        "e=65000\n",
        "cr.execute(\"INSERT INTO COMPANY (ID,NAME,AGE,ADDRESS,SALARY) \\\n",
        "      VALUES (?, ?, ?, ?, ? )\",(a,b,c,d,e))\n",
        "conn.commit()\n",
        "print (\"Records created successfully\")\n",
        "conn.close()"
      ],
      "execution_count": 11,
      "outputs": [
        {
          "output_type": "stream",
          "name": "stdout",
          "text": [
            "Records created successfully\n"
          ]
        }
      ]
    },
    {
      "cell_type": "code",
      "metadata": {
        "id": "sjGsfUcDuviE",
        "colab": {
          "base_uri": "https://localhost:8080/"
        },
        "outputId": "ad24d17a-eb7c-48cc-b3fe-c2d0f8d533d8"
      },
      "source": [
        "# Fetch values\n",
        "conn = sqlite3.connect('test.db')\n",
        "print (\"Opened database successfully\");\n",
        "cursor = conn.execute(\"SELECT id, name, address, salary from COMPANY\")\n",
        "# can also call exeutescript()\n",
        "print(type(cursor))\n",
        "for row in cursor: # can also use fetchmany(), fetchone() etc.\n",
        "   print (\"ID = \", row[0])\n",
        "   print (\"NAME = \", row[1])\n",
        "   print (\"ADDRESS = \", row[2])\n",
        "   print (\"SALARY = \", row[3], \"\\n\")\n",
        "print (\"Rows fetched successfully\")\n",
        "x=3\n",
        "cursor = conn.execute(\"SELECT id, name, address, salary from COMPANY where id=?\",(x,))\n",
        "for row in cursor:\n",
        "   print(row)\n",
        "   print (\"ID = \", row[0])\n",
        "   print (\"NAME = \", row[1])\n",
        "   print (\"ADDRESS = \", row[2])\n",
        "   print (\"SALARY = \", row[3], \"\\n\")\n",
        "print (\"1 row fetched successfully\")\n",
        "conn.close()"
      ],
      "execution_count": 12,
      "outputs": [
        {
          "output_type": "stream",
          "name": "stdout",
          "text": [
            "Opened database successfully\n",
            "<class 'sqlite3.Cursor'>\n",
            "ID =  1\n",
            "NAME =  Paul\n",
            "ADDRESS =  California\n",
            "SALARY =  20000.0 \n",
            "\n",
            "ID =  2\n",
            "NAME =  Allen\n",
            "ADDRESS =  Texas\n",
            "SALARY =  15000.0 \n",
            "\n",
            "ID =  3\n",
            "NAME =  Teddy\n",
            "ADDRESS =  Norway\n",
            "SALARY =  20000.0 \n",
            "\n",
            "ID =  4\n",
            "NAME =  Mark\n",
            "ADDRESS =  Rich-Mond\n",
            "SALARY =  65000.0 \n",
            "\n",
            "Rows fetched successfully\n",
            "(3, 'Teddy', 'Norway', 20000.0)\n",
            "ID =  3\n",
            "NAME =  Teddy\n",
            "ADDRESS =  Norway\n",
            "SALARY =  20000.0 \n",
            "\n",
            "1 row fetched successfully\n"
          ]
        }
      ]
    },
    {
      "cell_type": "code",
      "metadata": {
        "id": "PYJeLvBxu6Hc",
        "colab": {
          "base_uri": "https://localhost:8080/"
        },
        "outputId": "feb91150-22ce-49cc-d09c-d959847739e0"
      },
      "source": [
        "# Update values\n",
        "conn = sqlite3.connect('test.db')\n",
        "print (\"Opened database successfully\");\n",
        "temp=conn.execute(\"UPDATE COMPANY set SALARY = 25000.00 where ID = 1\")\n",
        "print(temp)\n",
        "conn.commit()\n",
        "print (\"Total number of rows updated :\", conn.total_changes)\n",
        "cursor = conn.execute(\"SELECT id, name, address, salary from COMPANY\")\n",
        "for row in cursor:\n",
        "   print (\"ID = \", row[0])\n",
        "   print (\"NAME = \", row[1])\n",
        "   print (\"ADDRESS = \", row[2])\n",
        "   print (\"SALARY = \", row[3], \"\\n\")\n",
        "print (\"Results shown successfully\");\n",
        "conn.close()"
      ],
      "execution_count": 13,
      "outputs": [
        {
          "output_type": "stream",
          "name": "stdout",
          "text": [
            "Opened database successfully\n",
            "<sqlite3.Cursor object at 0x7faf085c9c70>\n",
            "Total number of rows updated : 1\n",
            "ID =  1\n",
            "NAME =  Paul\n",
            "ADDRESS =  California\n",
            "SALARY =  25000.0 \n",
            "\n",
            "ID =  2\n",
            "NAME =  Allen\n",
            "ADDRESS =  Texas\n",
            "SALARY =  15000.0 \n",
            "\n",
            "ID =  3\n",
            "NAME =  Teddy\n",
            "ADDRESS =  Norway\n",
            "SALARY =  20000.0 \n",
            "\n",
            "ID =  4\n",
            "NAME =  Mark\n",
            "ADDRESS =  Rich-Mond\n",
            "SALARY =  65000.0 \n",
            "\n",
            "Results shown successfully\n"
          ]
        }
      ]
    },
    {
      "cell_type": "code",
      "metadata": {
        "id": "EBskWXksvD0z",
        "colab": {
          "base_uri": "https://localhost:8080/"
        },
        "outputId": "fc0889db-f69a-4a30-aa65-5c6d6be6459a"
      },
      "source": [
        "# Delete values\n",
        "conn = sqlite3.connect('test.db')\n",
        "print (\"Opened database successfully\");\n",
        "x=2\n",
        "conn.execute(\"DELETE from COMPANY where ID = ?\",(x,))\n",
        "conn.commit()\n",
        "print (\"Total number of rows deleted :\", conn.total_changes)\n",
        "cursor = conn.execute(\"SELECT id, name, address, salary from COMPANY\")\n",
        "for row in cursor:\n",
        "   print (\"ID = \", row[0])\n",
        "   print (\"NAME = \", row[1])\n",
        "   print (\"ADDRESS = \", row[2])\n",
        "   print (\"SALARY = \", row[3], \"\\n\")\n",
        "print (\"Deletion done successfully\");\n",
        "conn.close()"
      ],
      "execution_count": 14,
      "outputs": [
        {
          "output_type": "stream",
          "name": "stdout",
          "text": [
            "Opened database successfully\n",
            "Total number of rows deleted : 1\n",
            "ID =  1\n",
            "NAME =  Paul\n",
            "ADDRESS =  California\n",
            "SALARY =  25000.0 \n",
            "\n",
            "ID =  3\n",
            "NAME =  Teddy\n",
            "ADDRESS =  Norway\n",
            "SALARY =  20000.0 \n",
            "\n",
            "ID =  4\n",
            "NAME =  Mark\n",
            "ADDRESS =  Rich-Mond\n",
            "SALARY =  65000.0 \n",
            "\n",
            "Deletion done successfully\n"
          ]
        }
      ]
    },
    {
      "cell_type": "code",
      "source": [
        "import pandas as pd\n",
        "conn = sqlite3.connect('test.db')\n",
        "# dataframe is a structure to hold tabular data\n",
        "df = pd.read_sql_query(\"select * from COMPANY\", conn)\n",
        "\n",
        "df.head()"
      ],
      "metadata": {
        "colab": {
          "base_uri": "https://localhost:8080/",
          "height": 143
        },
        "id": "0CKRin1W4dD0",
        "outputId": "7c4176a1-1701-4214-d5ae-f91eee633f09"
      },
      "execution_count": 15,
      "outputs": [
        {
          "output_type": "execute_result",
          "data": {
            "text/plain": [
              "   ID   NAME  AGE     ADDRESS   SALARY\n",
              "0   1   Paul   32  California  25000.0\n",
              "1   3  Teddy   23      Norway  20000.0\n",
              "2   4   Mark   25   Rich-Mond  65000.0"
            ],
            "text/html": [
              "\n",
              "  <div id=\"df-01d30313-c8c9-4f59-9701-b5b6a7afb47d\">\n",
              "    <div class=\"colab-df-container\">\n",
              "      <div>\n",
              "<style scoped>\n",
              "    .dataframe tbody tr th:only-of-type {\n",
              "        vertical-align: middle;\n",
              "    }\n",
              "\n",
              "    .dataframe tbody tr th {\n",
              "        vertical-align: top;\n",
              "    }\n",
              "\n",
              "    .dataframe thead th {\n",
              "        text-align: right;\n",
              "    }\n",
              "</style>\n",
              "<table border=\"1\" class=\"dataframe\">\n",
              "  <thead>\n",
              "    <tr style=\"text-align: right;\">\n",
              "      <th></th>\n",
              "      <th>ID</th>\n",
              "      <th>NAME</th>\n",
              "      <th>AGE</th>\n",
              "      <th>ADDRESS</th>\n",
              "      <th>SALARY</th>\n",
              "    </tr>\n",
              "  </thead>\n",
              "  <tbody>\n",
              "    <tr>\n",
              "      <th>0</th>\n",
              "      <td>1</td>\n",
              "      <td>Paul</td>\n",
              "      <td>32</td>\n",
              "      <td>California</td>\n",
              "      <td>25000.0</td>\n",
              "    </tr>\n",
              "    <tr>\n",
              "      <th>1</th>\n",
              "      <td>3</td>\n",
              "      <td>Teddy</td>\n",
              "      <td>23</td>\n",
              "      <td>Norway</td>\n",
              "      <td>20000.0</td>\n",
              "    </tr>\n",
              "    <tr>\n",
              "      <th>2</th>\n",
              "      <td>4</td>\n",
              "      <td>Mark</td>\n",
              "      <td>25</td>\n",
              "      <td>Rich-Mond</td>\n",
              "      <td>65000.0</td>\n",
              "    </tr>\n",
              "  </tbody>\n",
              "</table>\n",
              "</div>\n",
              "      <button class=\"colab-df-convert\" onclick=\"convertToInteractive('df-01d30313-c8c9-4f59-9701-b5b6a7afb47d')\"\n",
              "              title=\"Convert this dataframe to an interactive table.\"\n",
              "              style=\"display:none;\">\n",
              "        \n",
              "  <svg xmlns=\"http://www.w3.org/2000/svg\" height=\"24px\"viewBox=\"0 0 24 24\"\n",
              "       width=\"24px\">\n",
              "    <path d=\"M0 0h24v24H0V0z\" fill=\"none\"/>\n",
              "    <path d=\"M18.56 5.44l.94 2.06.94-2.06 2.06-.94-2.06-.94-.94-2.06-.94 2.06-2.06.94zm-11 1L8.5 8.5l.94-2.06 2.06-.94-2.06-.94L8.5 2.5l-.94 2.06-2.06.94zm10 10l.94 2.06.94-2.06 2.06-.94-2.06-.94-.94-2.06-.94 2.06-2.06.94z\"/><path d=\"M17.41 7.96l-1.37-1.37c-.4-.4-.92-.59-1.43-.59-.52 0-1.04.2-1.43.59L10.3 9.45l-7.72 7.72c-.78.78-.78 2.05 0 2.83L4 21.41c.39.39.9.59 1.41.59.51 0 1.02-.2 1.41-.59l7.78-7.78 2.81-2.81c.8-.78.8-2.07 0-2.86zM5.41 20L4 18.59l7.72-7.72 1.47 1.35L5.41 20z\"/>\n",
              "  </svg>\n",
              "      </button>\n",
              "      \n",
              "  <style>\n",
              "    .colab-df-container {\n",
              "      display:flex;\n",
              "      flex-wrap:wrap;\n",
              "      gap: 12px;\n",
              "    }\n",
              "\n",
              "    .colab-df-convert {\n",
              "      background-color: #E8F0FE;\n",
              "      border: none;\n",
              "      border-radius: 50%;\n",
              "      cursor: pointer;\n",
              "      display: none;\n",
              "      fill: #1967D2;\n",
              "      height: 32px;\n",
              "      padding: 0 0 0 0;\n",
              "      width: 32px;\n",
              "    }\n",
              "\n",
              "    .colab-df-convert:hover {\n",
              "      background-color: #E2EBFA;\n",
              "      box-shadow: 0px 1px 2px rgba(60, 64, 67, 0.3), 0px 1px 3px 1px rgba(60, 64, 67, 0.15);\n",
              "      fill: #174EA6;\n",
              "    }\n",
              "\n",
              "    [theme=dark] .colab-df-convert {\n",
              "      background-color: #3B4455;\n",
              "      fill: #D2E3FC;\n",
              "    }\n",
              "\n",
              "    [theme=dark] .colab-df-convert:hover {\n",
              "      background-color: #434B5C;\n",
              "      box-shadow: 0px 1px 3px 1px rgba(0, 0, 0, 0.15);\n",
              "      filter: drop-shadow(0px 1px 2px rgba(0, 0, 0, 0.3));\n",
              "      fill: #FFFFFF;\n",
              "    }\n",
              "  </style>\n",
              "\n",
              "      <script>\n",
              "        const buttonEl =\n",
              "          document.querySelector('#df-01d30313-c8c9-4f59-9701-b5b6a7afb47d button.colab-df-convert');\n",
              "        buttonEl.style.display =\n",
              "          google.colab.kernel.accessAllowed ? 'block' : 'none';\n",
              "\n",
              "        async function convertToInteractive(key) {\n",
              "          const element = document.querySelector('#df-01d30313-c8c9-4f59-9701-b5b6a7afb47d');\n",
              "          const dataTable =\n",
              "            await google.colab.kernel.invokeFunction('convertToInteractive',\n",
              "                                                     [key], {});\n",
              "          if (!dataTable) return;\n",
              "\n",
              "          const docLinkHtml = 'Like what you see? Visit the ' +\n",
              "            '<a target=\"_blank\" href=https://colab.research.google.com/notebooks/data_table.ipynb>data table notebook</a>'\n",
              "            + ' to learn more about interactive tables.';\n",
              "          element.innerHTML = '';\n",
              "          dataTable['output_type'] = 'display_data';\n",
              "          await google.colab.output.renderOutput(dataTable, element);\n",
              "          const docLink = document.createElement('div');\n",
              "          docLink.innerHTML = docLinkHtml;\n",
              "          element.appendChild(docLink);\n",
              "        }\n",
              "      </script>\n",
              "    </div>\n",
              "  </div>\n",
              "  "
            ]
          },
          "metadata": {},
          "execution_count": 15
        }
      ]
    },
    {
      "cell_type": "markdown",
      "source": [
        "**You can do similar things with other data sources like PostgreSQL etc.**\n",
        "\n",
        "https://www.tutorialspoint.com/postgresql/postgresql_python.htm"
      ],
      "metadata": {
        "id": "3TX0Ya95MydW"
      }
    },
    {
      "cell_type": "markdown",
      "source": [
        "\n",
        "\n",
        "---\n",
        "\n"
      ],
      "metadata": {
        "id": "aQYh-iMDNCFv"
      }
    },
    {
      "cell_type": "markdown",
      "metadata": {
        "id": "N97_HG7ILq45"
      },
      "source": [
        "**Regular expressions**\n",
        "\n",
        "Quite an exhaustive subject.............\n",
        "\n",
        "https://www.w3schools.com/python/python_regex.asp\n",
        "\n",
        "https://www.regular-expressions.info/"
      ]
    },
    {
      "cell_type": "code",
      "metadata": {
        "id": "1f1SIEMAMAWy",
        "colab": {
          "base_uri": "https://localhost:8080/"
        },
        "outputId": "1a0ebc93-4900-4d29-9954-4f39ee2d6a0c"
      },
      "source": [
        "import re\n",
        "\n",
        "txt = \"The rain in Spain\"\n",
        "\n",
        "# it will return a Match object if the pattern is found. otherwise it will return None\n",
        "x = re.search(\"^The.*Spain$\", txt) \n",
        "\n",
        "if (x):\n",
        "  print(type(x))\n",
        "  print(\"YES! We have a match!\")\n",
        "else:\n",
        "  print(\"No match\")"
      ],
      "execution_count": 23,
      "outputs": [
        {
          "output_type": "stream",
          "name": "stdout",
          "text": [
            "<class 're.Match'>\n",
            "YES! We have a match!\n"
          ]
        }
      ]
    },
    {
      "cell_type": "markdown",
      "metadata": {
        "id": "WpGrLiMPJInw"
      },
      "source": [
        "**Slice object**"
      ]
    },
    {
      "cell_type": "code",
      "metadata": {
        "id": "gYdOZDocJC4P",
        "colab": {
          "base_uri": "https://localhost:8080/"
        },
        "outputId": "a61dfa8e-4e54-4538-dadd-12c9e291e26a"
      },
      "source": [
        "# slice object\n",
        "a = (\"a\", \"b\", \"c\", \"d\", \"e\", \"f\", \"g\", \"h\")\n",
        "x = slice(3,7,2) # 3 to 7 indices, skip by 2\n",
        "print(x)\n",
        "print(a[x])"
      ],
      "execution_count": 24,
      "outputs": [
        {
          "output_type": "stream",
          "name": "stdout",
          "text": [
            "slice(3, 7, 2)\n",
            "('d', 'f')\n"
          ]
        }
      ]
    },
    {
      "cell_type": "markdown",
      "metadata": {
        "id": "G3dQpbTSJhIV"
      },
      "source": [
        "**Lambda functions**\n",
        "\n",
        "* A lambda function is an anonymous inline function. It is defined without a name. This can be used if you need a nameless function for a short period of time.  Can work with single expression only"
      ]
    },
    {
      "cell_type": "code",
      "metadata": {
        "id": "kXEVEjaVKRt6",
        "colab": {
          "base_uri": "https://localhost:8080/"
        },
        "outputId": "3fbb2f13-b192-4b5c-b9e5-64545d4643b6"
      },
      "source": [
        "fun = lambda a, b : a * b\n",
        "print(fun(5, 6))"
      ],
      "execution_count": 25,
      "outputs": [
        {
          "output_type": "stream",
          "name": "stdout",
          "text": [
            "30\n"
          ]
        }
      ]
    },
    {
      "cell_type": "markdown",
      "metadata": {
        "id": "bEqCwsDuwIff"
      },
      "source": [
        "**List Comprehension**\n",
        "\n",
        "* List comprehensions are used for creating new lists from other iterables.\n",
        "* As list comprehensions return lists, they consist of brackets containing the expression, which is executed for each element along with the for to iterate over each element.\n"
      ]
    },
    {
      "cell_type": "code",
      "metadata": {
        "id": "WpgxWlizwU75",
        "colab": {
          "base_uri": "https://localhost:8080/"
        },
        "outputId": "b563e02d-8cfc-47d3-ebce-adb6a75e5d4f"
      },
      "source": [
        "numbers = (1, 2, 3, 4)\n",
        "\n",
        "squares = [n**2 for n in numbers if n%2==0]\n",
        "\n",
        "print(squares)"
      ],
      "execution_count": 28,
      "outputs": [
        {
          "output_type": "stream",
          "name": "stdout",
          "text": [
            "[4, 16]\n"
          ]
        }
      ]
    },
    {
      "cell_type": "markdown",
      "metadata": {
        "id": "Ly10GIZ5xQER"
      },
      "source": [
        "**Iterators**\n",
        "\n",
        "* An iterator is an object that can be iterated upon, meaning that you can traverse through all the values.\n",
        "* To create an object/class as an iterator you have to implement the methods __iter__() and __next__() to your object."
      ]
    },
    {
      "cell_type": "code",
      "metadata": {
        "id": "mUFJlZ5kxl43",
        "colab": {
          "base_uri": "https://localhost:8080/"
        },
        "outputId": "b2e02474-d064-4fa6-b999-7c290ef6bdf2"
      },
      "source": [
        "class MyNumbers:\n",
        "  def __init__(self,limit,step):\n",
        "    self.limit=limit\n",
        "    self.step=step\n",
        "  \n",
        "  def __iter__(self):\n",
        "    print('iter')\n",
        "    self.a = 1\n",
        "    return self\n",
        "\n",
        "  def __next__(self):\n",
        "    if self.a <= self.limit:\n",
        "      print('next')\n",
        "      x = self.a\n",
        "      self.a += self.step\n",
        "      return x\n",
        "    else:\n",
        "      raise StopIteration\n",
        "\n",
        "myObj = MyNumbers(10,2)\n",
        "for n in myObj:\n",
        "  print(n)"
      ],
      "execution_count": 9,
      "outputs": [
        {
          "output_type": "stream",
          "name": "stdout",
          "text": [
            "iter\n",
            "next\n",
            "1\n",
            "next\n",
            "3\n",
            "next\n",
            "5\n",
            "next\n",
            "7\n",
            "next\n",
            "9\n"
          ]
        }
      ]
    },
    {
      "cell_type": "markdown",
      "metadata": {
        "id": "WGAUCvyU-gv0"
      },
      "source": [
        "**Working with JSON**"
      ]
    },
    {
      "cell_type": "markdown",
      "metadata": {
        "id": "6Rk-C9oG-pZv"
      },
      "source": [
        "* JSON is a syntax for storing and exchanging data.\n",
        "* It is a standardized format people use to pass data around. XML is similar.\n",
        "\n",
        "* JavaScript Object Notation was inspired by a subset of the JavaScript\n",
        "* It’s easy for both humans and machines to create and understand.\n",
        "\n",
        "* The process of encoding JSON is called serialization. \n",
        "* It is the transformation of data into a series of bytes to be stored or transmitted across a network.  \n",
        "* Deserialization is the reverse process.\n",
        "\n",
        "* The json library in Python exposes the dump() method for writing data to files and dumps() method for writing to a Python string.\n",
        "\n",
        "* json library has load() and loads() for turning JSON encoded data into Python objects.\n",
        "\n",
        "* https://www.digitalocean.com/community/tutorials/an-introduction-to-json"
      ]
    },
    {
      "cell_type": "code",
      "metadata": {
        "colab": {
          "base_uri": "https://localhost:8080/"
        },
        "id": "FHgU93qf_VIB",
        "outputId": "31a0f821-9d6e-48ea-8a91-983639397d41"
      },
      "source": [
        "data={\n",
        "    \"firstName\": \"Alex\",\n",
        "    \"lastName\": \"Smith\",\n",
        "    \"age\": 35,\n",
        "    \"children\": [\n",
        "        {\n",
        "            \"firstName\": \"Alice\",\n",
        "            \"age\": 6\n",
        "        },\n",
        "        {\n",
        "            \"firstName\": \"Bob\",\n",
        "            \"age\": 8\n",
        "        }\n",
        "    ]\n",
        "}\n",
        "\n",
        "import json\n",
        "# Write JSON\n",
        "with open(\"data_file.json\", \"w\") as write_file:\n",
        "    json.dump(data, write_file)\n",
        "    \n",
        "json_string = json.dumps(data)\n",
        "print(json_string)"
      ],
      "execution_count": 16,
      "outputs": [
        {
          "output_type": "stream",
          "name": "stdout",
          "text": [
            "{\"firstName\": \"Alex\", \"lastName\": \"Smith\", \"age\": 35, \"children\": [{\"firstName\": \"Alice\", \"age\": 6}, {\"firstName\": \"Bob\", \"age\": 8}]}\n"
          ]
        }
      ]
    },
    {
      "cell_type": "code",
      "metadata": {
        "colab": {
          "base_uri": "https://localhost:8080/"
        },
        "id": "qgPuISd2AMdn",
        "outputId": "1be9b2f9-c42a-4111-8381-204b547bb93e"
      },
      "source": [
        "# Read JSON\n",
        "with open(\"data_file.json\", \"r\") as read_file:\n",
        "    read_data = json.load(read_file)\n",
        "    \n",
        "read_data_str = json.loads(json_string)\n",
        "\n",
        "print(type(read_data_str))\n",
        "print(read_data_str)"
      ],
      "execution_count": 17,
      "outputs": [
        {
          "output_type": "stream",
          "name": "stdout",
          "text": [
            "<class 'dict'>\n",
            "{'firstName': 'Alex', 'lastName': 'Smith', 'age': 35, 'children': [{'firstName': 'Alice', 'age': 6}, {'firstName': 'Bob', 'age': 8}]}\n"
          ]
        }
      ]
    },
    {
      "cell_type": "markdown",
      "metadata": {
        "id": "f5N_7mo7_jhH"
      },
      "source": [
        "* We will use JSONPlaceholder, a source of fake JSON data for practice purpose explore the data in the url\n",
        "* We need to make an API request to the JSONPlaceholder service, so just use the requests package\n",
        "\n",
        "* The requests module allows you to send HTTP requests using Python. \n",
        "* The HTTP request returns a Response Object with all the  response data (content, encoding, status, etc)"
      ]
    },
    {
      "cell_type": "code",
      "metadata": {
        "colab": {
          "base_uri": "https://localhost:8080/"
        },
        "id": "qQ_kw3oK_wlo",
        "outputId": "ecf926bc-fbb2-4cb5-c943-9dd1975c1917"
      },
      "source": [
        "import json\n",
        "import requests\n",
        "\n",
        "response = requests.get(\"https://jsonplaceholder.typicode.com/todos\")\n",
        "todos = json.loads(response.text)\n",
        "print(type(todos))\n",
        "print(todos[:3])\n",
        "\n",
        "count=0\n",
        "for todo in todos:\n",
        "    if todo[\"completed\"]:\n",
        "        # Increment the existing user's count.\n",
        "        count+= 1\n",
        "print(count)"
      ],
      "execution_count": 18,
      "outputs": [
        {
          "output_type": "stream",
          "name": "stdout",
          "text": [
            "<class 'list'>\n",
            "[{'userId': 1, 'id': 1, 'title': 'delectus aut autem', 'completed': False}, {'userId': 1, 'id': 2, 'title': 'quis ut nam facilis et officia qui', 'completed': False}, {'userId': 1, 'id': 3, 'title': 'fugiat veniam minus', 'completed': False}]\n",
            "90\n"
          ]
        }
      ]
    },
    {
      "cell_type": "code",
      "source": [
        "import pandas as pd\n",
        "\n",
        "with open(\"data_file_new.json\", \"w\") as write_file:\n",
        "    json.dump(todos, write_file)"
      ],
      "metadata": {
        "id": "6zfpc0HWBfNY"
      },
      "execution_count": 19,
      "outputs": []
    },
    {
      "cell_type": "code",
      "source": [
        "df = pd.read_json('data_file_new.json')\n",
        "df.head()"
      ],
      "metadata": {
        "colab": {
          "base_uri": "https://localhost:8080/",
          "height": 206
        },
        "id": "OidTmQm1B8BQ",
        "outputId": "28643f57-3410-4dbc-aa85-abb9166da0f1"
      },
      "execution_count": 20,
      "outputs": [
        {
          "output_type": "execute_result",
          "data": {
            "text/plain": [
              "   userId  id                                              title  completed\n",
              "0       1   1                                 delectus aut autem      False\n",
              "1       1   2                 quis ut nam facilis et officia qui      False\n",
              "2       1   3                                fugiat veniam minus      False\n",
              "3       1   4                                   et porro tempora       True\n",
              "4       1   5  laboriosam mollitia et enim quasi adipisci qui...      False"
            ],
            "text/html": [
              "\n",
              "  <div id=\"df-c9f87375-077a-4fa5-a666-d1cc022d7c22\">\n",
              "    <div class=\"colab-df-container\">\n",
              "      <div>\n",
              "<style scoped>\n",
              "    .dataframe tbody tr th:only-of-type {\n",
              "        vertical-align: middle;\n",
              "    }\n",
              "\n",
              "    .dataframe tbody tr th {\n",
              "        vertical-align: top;\n",
              "    }\n",
              "\n",
              "    .dataframe thead th {\n",
              "        text-align: right;\n",
              "    }\n",
              "</style>\n",
              "<table border=\"1\" class=\"dataframe\">\n",
              "  <thead>\n",
              "    <tr style=\"text-align: right;\">\n",
              "      <th></th>\n",
              "      <th>userId</th>\n",
              "      <th>id</th>\n",
              "      <th>title</th>\n",
              "      <th>completed</th>\n",
              "    </tr>\n",
              "  </thead>\n",
              "  <tbody>\n",
              "    <tr>\n",
              "      <th>0</th>\n",
              "      <td>1</td>\n",
              "      <td>1</td>\n",
              "      <td>delectus aut autem</td>\n",
              "      <td>False</td>\n",
              "    </tr>\n",
              "    <tr>\n",
              "      <th>1</th>\n",
              "      <td>1</td>\n",
              "      <td>2</td>\n",
              "      <td>quis ut nam facilis et officia qui</td>\n",
              "      <td>False</td>\n",
              "    </tr>\n",
              "    <tr>\n",
              "      <th>2</th>\n",
              "      <td>1</td>\n",
              "      <td>3</td>\n",
              "      <td>fugiat veniam minus</td>\n",
              "      <td>False</td>\n",
              "    </tr>\n",
              "    <tr>\n",
              "      <th>3</th>\n",
              "      <td>1</td>\n",
              "      <td>4</td>\n",
              "      <td>et porro tempora</td>\n",
              "      <td>True</td>\n",
              "    </tr>\n",
              "    <tr>\n",
              "      <th>4</th>\n",
              "      <td>1</td>\n",
              "      <td>5</td>\n",
              "      <td>laboriosam mollitia et enim quasi adipisci qui...</td>\n",
              "      <td>False</td>\n",
              "    </tr>\n",
              "  </tbody>\n",
              "</table>\n",
              "</div>\n",
              "      <button class=\"colab-df-convert\" onclick=\"convertToInteractive('df-c9f87375-077a-4fa5-a666-d1cc022d7c22')\"\n",
              "              title=\"Convert this dataframe to an interactive table.\"\n",
              "              style=\"display:none;\">\n",
              "        \n",
              "  <svg xmlns=\"http://www.w3.org/2000/svg\" height=\"24px\"viewBox=\"0 0 24 24\"\n",
              "       width=\"24px\">\n",
              "    <path d=\"M0 0h24v24H0V0z\" fill=\"none\"/>\n",
              "    <path d=\"M18.56 5.44l.94 2.06.94-2.06 2.06-.94-2.06-.94-.94-2.06-.94 2.06-2.06.94zm-11 1L8.5 8.5l.94-2.06 2.06-.94-2.06-.94L8.5 2.5l-.94 2.06-2.06.94zm10 10l.94 2.06.94-2.06 2.06-.94-2.06-.94-.94-2.06-.94 2.06-2.06.94z\"/><path d=\"M17.41 7.96l-1.37-1.37c-.4-.4-.92-.59-1.43-.59-.52 0-1.04.2-1.43.59L10.3 9.45l-7.72 7.72c-.78.78-.78 2.05 0 2.83L4 21.41c.39.39.9.59 1.41.59.51 0 1.02-.2 1.41-.59l7.78-7.78 2.81-2.81c.8-.78.8-2.07 0-2.86zM5.41 20L4 18.59l7.72-7.72 1.47 1.35L5.41 20z\"/>\n",
              "  </svg>\n",
              "      </button>\n",
              "      \n",
              "  <style>\n",
              "    .colab-df-container {\n",
              "      display:flex;\n",
              "      flex-wrap:wrap;\n",
              "      gap: 12px;\n",
              "    }\n",
              "\n",
              "    .colab-df-convert {\n",
              "      background-color: #E8F0FE;\n",
              "      border: none;\n",
              "      border-radius: 50%;\n",
              "      cursor: pointer;\n",
              "      display: none;\n",
              "      fill: #1967D2;\n",
              "      height: 32px;\n",
              "      padding: 0 0 0 0;\n",
              "      width: 32px;\n",
              "    }\n",
              "\n",
              "    .colab-df-convert:hover {\n",
              "      background-color: #E2EBFA;\n",
              "      box-shadow: 0px 1px 2px rgba(60, 64, 67, 0.3), 0px 1px 3px 1px rgba(60, 64, 67, 0.15);\n",
              "      fill: #174EA6;\n",
              "    }\n",
              "\n",
              "    [theme=dark] .colab-df-convert {\n",
              "      background-color: #3B4455;\n",
              "      fill: #D2E3FC;\n",
              "    }\n",
              "\n",
              "    [theme=dark] .colab-df-convert:hover {\n",
              "      background-color: #434B5C;\n",
              "      box-shadow: 0px 1px 3px 1px rgba(0, 0, 0, 0.15);\n",
              "      filter: drop-shadow(0px 1px 2px rgba(0, 0, 0, 0.3));\n",
              "      fill: #FFFFFF;\n",
              "    }\n",
              "  </style>\n",
              "\n",
              "      <script>\n",
              "        const buttonEl =\n",
              "          document.querySelector('#df-c9f87375-077a-4fa5-a666-d1cc022d7c22 button.colab-df-convert');\n",
              "        buttonEl.style.display =\n",
              "          google.colab.kernel.accessAllowed ? 'block' : 'none';\n",
              "\n",
              "        async function convertToInteractive(key) {\n",
              "          const element = document.querySelector('#df-c9f87375-077a-4fa5-a666-d1cc022d7c22');\n",
              "          const dataTable =\n",
              "            await google.colab.kernel.invokeFunction('convertToInteractive',\n",
              "                                                     [key], {});\n",
              "          if (!dataTable) return;\n",
              "\n",
              "          const docLinkHtml = 'Like what you see? Visit the ' +\n",
              "            '<a target=\"_blank\" href=https://colab.research.google.com/notebooks/data_table.ipynb>data table notebook</a>'\n",
              "            + ' to learn more about interactive tables.';\n",
              "          element.innerHTML = '';\n",
              "          dataTable['output_type'] = 'display_data';\n",
              "          await google.colab.output.renderOutput(dataTable, element);\n",
              "          const docLink = document.createElement('div');\n",
              "          docLink.innerHTML = docLinkHtml;\n",
              "          element.appendChild(docLink);\n",
              "        }\n",
              "      </script>\n",
              "    </div>\n",
              "  </div>\n",
              "  "
            ]
          },
          "metadata": {},
          "execution_count": 20
        }
      ]
    }
  ]
}